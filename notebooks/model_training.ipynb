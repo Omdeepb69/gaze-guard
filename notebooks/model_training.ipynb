{
  "cells": [
    {
      "cell_type": "markdown",
      "metadata": {},
      "source": [
        "# Gaze Guard - Model Training"
      ]
    },
    {
      "cell_type": "markdown",
      "metadata": {},
      "source": [
        "## 1. Imports"
      ]
    },
    {
      "cell_type": "code",
      "execution_count": null,
      "metadata": {},
      "outputs": [],
      "source": [
        "import numpy as np\n",
        "import pandas as pd\n",
        "import matplotlib.pyplot as plt\n",
        "import seaborn as sns\n",
        "import os\n",
        "import joblib\n",
        "from sklearn.model_selection import train_test_split, GridSearchCV\n",
        "from sklearn.svm import SVC\n",
        "from sklearn.metrics import accuracy_score, classification_report, confusion_matrix\n",
        "from sklearn.preprocessing import StandardScaler\n",
        "from sklearn.pipeline import Pipeline\n",
        "\n",
        "# Assume a project structure where data loading utilities might exist\n",
        "# Create dummy data loading functions for demonstration\n",
        "def load_simulated_gaze_data(n_samples=1000, n_features=2, random_state=42):\n",
        "    \"\"\"Simulates loading gaze feature data.\"\"\"\n",
        "    np.random.seed(random_state)\n",
        "    # Simulate features (e.g., normalized eye aspect ratio, head pose angle)\n",
        "    X_looking = np.random.rand(n_samples // 2, n_features) * 0.5 + 0.3 # Centered around 0.5-0.8\n",
        "    X_away = np.random.rand(n_samples // 2, n_features) * 0.4 # Centered around 0-0.4\n",
        "    \n",
        "    X = np.vstack((X_looking, X_away))\n",
        "    y = np.array([1] * (n_samples // 2) + [0] * (n_samples // 2)) # 1: Looking, 0: Away\n",
        "    \n",
        "    # Shuffle data\n",
        "    indices = np.arange(n_samples)\n",
        "    np.random.shuffle(indices)\n",
        "    X = X[indices]\n",
        "    y = y[indices]\n",
        "    \n",
        "    # Create a DataFrame for better handling\n",
        "    feature_names = [f'feature_{i+1}' for i in range(n_features)]\n",
        "    df = pd.DataFrame(X, columns=feature_names)\n",
        "    df['label'] = y\n",
        "    \n",
        "    print(f\"Simulated data loaded: {len(df)} samples\")\n",
        "    print(f\"Class distribution:\\n{df['label'].value_counts()}\")\n",
        "    return df\n",
        "\n",
        "def save_model(model, filename='gaze_classifier.joblib'):\n",
        "    \"\"\"Saves the trained model.\"\"\"\n",
        "    # Ensure models directory exists\n",
        "    models_dir = 'models'\n",
        "    os.makedirs(models_dir, exist_ok=True)\n",
        "    filepath = os.path.join(models_dir, filename)\n",
        "    joblib.dump(model, filepath)\n",
        "    print(f\"Model saved to {filepath}\")\n",
        "\n",
        "def load_model(filename='gaze_classifier.joblib'):\n",
        "    \"\"\"Loads a trained model.\"\"\"\n",
        "    filepath = os.path.join('models', filename)\n",
        "    if os.path.exists(filepath):\n",
        "        model = joblib.load(filepath)\n",
        "        print(f\"Model loaded from {filepath}\")\n",
        "        return model\n",
        "    else:\n",
        "        print(f\"Model file not found at {filepath}\")\n",
        "        return None"
      ]
    },
    {
      "cell_type": "markdown",
      "metadata": {},
      "source": [
        "## 2. Data Loading and Preparation"
      ]
    },
    {
      "cell_type": "code",
      "execution_count": null,
      "metadata": {},
      "outputs": [],
      "source": [
        "# Load the simulated data\n",
        "data_df = load_simulated_gaze_data(n_samples=2000, n_features=2)\n",
        "\n",
        "# Define features (X) and target (y)\n",
        "X = data_df.drop('label', axis=1).values\n",
        "y = data_df['label'].values\n",
        "\n",
        "# Split data into training and testing sets\n",
        "X_train, X_test, y_train, y_test = train_test_split(X, y, test_size=0.2, random_state=42, stratify=y)\n",
        "\n",
        "print(f\"\\nTraining set shape: X={X_train.shape}, y={y_train.shape}\")\n",
        "print(f\"Testing set shape: X={X_test.shape}, y={y_test.shape}\")"
      ]
    },
    {
      "cell_type": "markdown",
      "metadata": {},
      "source": [
        "## 3. Model Definition"
      ]
    },
    {
      "cell_type": "code",
      "execution_count": null,
      "metadata": {},
      "outputs": [],
      "source": [
        "# Define the model pipeline: StandardScaler + SVM Classifier\n",
        "# Using a pipeline ensures scaling is applied correctly during cross-validation\n",
        "pipeline = Pipeline([\n",
        "    ('scaler', StandardScaler()),\n",
        "    ('svm', SVC(probability=True, random_state=42)) # probability=True for potential future use\n",
        "])"
      ]
    },
    {
      "cell_type": "markdown",
      "metadata": {},
      "source": [
        "## 4. Hyperparameter Tuning"
      ]
    },
    {
      "cell_type": "code",
      "execution_count": null,
      "metadata": {},
      "outputs": [],
      "source": [
        "# Define the parameter grid for GridSearchCV\n",
        "param_grid = {\n",
        "    'svm__C': [0.1, 1, 10, 100],        # Regularization parameter\n",
        "    'svm__gamma': ['scale', 'auto', 0.1, 1], # Kernel coefficient for 'rbf'\n",
        "    'svm__kernel': ['rbf', 'linear']      # Type of kernel\n",
        "}\n",
        "\n",
        "# Setup GridSearchCV\n",
        "# cv=5 means 5-fold cross-validation\n",
        "# n_jobs=-1 uses all available CPU cores\n",
        "grid_search = GridSearchCV(pipeline, param_grid, cv=5, n_jobs=-1, verbose=1, scoring='accuracy')\n",
        "\n",
        "# Perform the grid search on the training data\n",
        "print(\"Starting Grid Search for hyperparameter tuning...\")\n",
        "grid_search.fit(X_train, y_train)\n",
        "\n",
        "# Print the best parameters and best score found\n",
        "print(f\"\\nBest parameters found: {grid_search.best_params_}\")\n",
        "print(f\"Best cross-validation accuracy: {grid_search.best_score_:.4f}\")\n",
        "\n",
        "# Get the best estimator (the pipeline with the best parameters)\n",
        "best_model = grid_search.best_estimator_"
      ]
    },
    {
      "cell_type": "markdown",
      "metadata": {},
      "source": [
        "## 5. Model Training (Using Best Parameters)"
      ]
    },
    {
      "cell_type": "code",
      "execution_count": null,
      "metadata": {},
      "outputs": [],
      "source": [
        "# The best model is already trained by GridSearchCV on the full training set\n",
        "# We can directly use 'best_model' for evaluation\n",
        "print(\"Best model is already trained through GridSearchCV.\")"
      ]
    },
    {
      "cell_type": "markdown",
      "metadata": {},
      "source": [
        "## 6. Model Evaluation"
      ]
    },
    {
      "cell_type": "code",
      "execution_count": null,
      "metadata": {},
      "outputs": [],
      "source": [
        "# Evaluate the best model on the test set\n",
        "y_pred = best_model.predict(X_test)\n",
        "\n",
        "# Calculate accuracy\n",
        "accuracy = accuracy_score(y_test, y_pred)\n",
        "print(f\"\\nTest Set Accuracy: {accuracy:.4f}\")\n",
        "\n",
        "# Print classification report (precision, recall, f1-score)\n",
        "print(\"\\nClassification Report:\")\n",
        "print(classification_report(y_test, y_pred, target_names=['Away', 'Looking']))\n",
        "\n",
        "# Calculate and display the confusion matrix\n",
        "cm = confusion_matrix(y_test, y_pred)\n",
        "print(\"Confusion Matrix:\")\n",
        "print(cm)"
      ]
    },
    {
      "cell_type": "markdown",
      "metadata": {},
      "source": [
        "## 7. Results Visualization"
      ]
    },
    {
      "cell_type": "code",
      "execution_count": null,
      "metadata": {},
      "outputs": [],
      "source": [
        "# Visualize the Confusion Matrix\n",
        "plt.figure(figsize=(8, 6))\n",
        "sns.heatmap(cm, annot=True, fmt='d', cmap='Blues', \n",
        "            xticklabels=['Predicted Away', 'Predicted Looking'], \n",
        "            yticklabels=['Actual Away', 'Actual Looking'])\n",
        "plt.title('Confusion Matrix')\n",
        "plt.ylabel('Actual Label')\n",
        "plt.xlabel('Predicted Label')\n",
        "plt.show()\n",
        "\n",
        "# Visualize the decision boundary (only works for 2 features)\n",
        "if X_train.shape[1] == 2:\n",
        "    print(\"\\nVisualizing Decision Boundary (requires 2 features)...\")\n",
        "    \n",
        "    # Create a mesh grid for plotting\n",
        "    scaler = best_model.named_steps['scaler']\n",
        "    svm_model = best_model.named_steps['svm']\n",
        "    \n",
        "    X_scaled = scaler.transform(X) # Scale all data for plotting limits\n",
        "    x_min, x_max = X_scaled[:, 0].min() - 1, X_scaled[:, 0].max() + 1\n",
        "    y_min, y_max = X_scaled[:, 1].min() - 1, X_scaled[:, 1].max() + 1\n",
        "    xx, yy = np.meshgrid(np.arange(x_min, x_max, 0.02),\n",
        "                         np.arange(y_min, y_max, 0.02))\n",
        "\n",
        "    # Predict on the mesh grid (needs inverse transform if plotting original space)\n",
        "    # Easier to plot in scaled space\n",
        "    Z = svm_model.predict(np.c_[xx.ravel(), yy.ravel()])\n",
        "    Z = Z.reshape(xx.shape)\n",
        "\n",
        "    plt.figure(figsize=(10, 8))\n",
        "    plt.contourf(xx, yy, Z, cmap=plt.cm.coolwarm, alpha=0.8)\n",
        "\n",
        "    # Plot the training points (scaled)\n",
        "    X_train_scaled = scaler.transform(X_train)\n",
        "    scatter = plt.scatter(X_train_scaled[:, 0], X_train_scaled[:, 1], c=y_train, cmap=plt.cm.coolwarm, edgecolors='k')\n",
        "    plt.xlabel('Feature 1 (Scaled)')\n",
        "    plt.ylabel('Feature 2 (Scaled)')\n",
        "    plt.xlim(xx.min(), xx.max())\n",
        "    plt.ylim(yy.min(), yy.max())\n",
        "    plt.xticks(())\n",
        "    plt.yticks(())\n",
        "    plt.title('SVM Decision Boundary on Scaled Training Data')\n",
        "    plt.legend(handles=scatter.legend_elements()[0], labels=['Away', 'Looking'])\n",
        "    plt.show()\n",
        "else:\n",
        "    print(\"\\nSkipping decision boundary visualization (requires exactly 2 features).\")"
      ]
    },
    {
      "cell_type": "markdown",
      "metadata": {},
      "source": [
        "## 8. Save the Trained Model"
      ]
    },
    {
      "cell_type": "code",
      "execution_count": null,
      "metadata": {},
      "outputs": [],
      "source": [
        "# Save the best model pipeline (including the scaler)\n",
        "save_model(best_model, filename='gaze_svm_classifier.joblib')\n",
        "\n",
        "# Example of loading the model back\n",
        "loaded_model = load_model(filename='gaze_svm_classifier.joblib')\n",
        "if loaded_model:\n",
        "    print(\"\\nModel loaded successfully. Verifying by predicting first 5 test samples:\")\n",
        "    print(f\"Predictions: {loaded_model.predict(X_test[:5])}\")\n",
        "    print(f\"Actual:      {y_test[:5]}\")"
      ]
    }
  ],
  "metadata": {
    "kernelspec": {
      "display_name": "Python 3",
      "language": "python",
      "name": "python3"
    },
    "language_info": {
      "codemirror_mode": {
        "name": "ipython",
        "version": 3
      },
      "file_extension": ".py",
      "mimetype": "text/x-python",
      "name": "python",
      "nbconvert_exporter": "python",
      "pygments_lexer": "ipython3",
      "version": "3.9.12"
    }
  },
  "nbformat": 4,
  "nbformat_minor": 4
}